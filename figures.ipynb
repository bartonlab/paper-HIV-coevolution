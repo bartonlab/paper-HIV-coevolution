{
 "cells": [
  {
   "cell_type": "markdown",
   "metadata": {},
   "source": [
    "<a id='contents'></a>"
   ]
  },
  {
   "cell_type": "markdown",
   "metadata": {},
   "source": [
    "# Figures and analysis\n",
    "\n",
    "This notebook contains scripts for producing the main figures and results accompanying the manuscript. Here we perform basic organization and processing of data, which is then passed to functions in `figures.py` and `mplot.py` (available at this [GitHub repository](https://github.com/johnbarton/mplot)) for detailed formatting. The figures produced are stored as PDFs in the `/figures` folder.\n",
    "\n",
    "## Contents\n",
    "\n",
    "- [Overview and table of contents](#contents)\n",
    "- [Loading libraries and global variables](#global)\n",
    "- [Figures and data analysis](#figures)  \n",
    "    - [Figure 1](#fig1-figs1)  \n",
    "    - [Figure 2](#fig2-figs2)\n",
    "    - [Figure 3](#fig3)\n",
    "    - [Figure 4](#fig4-figs4)\n",
    "    - [Figure 5](#fig5)\n",
    "    - [Figure 6](#fig6-figs9)\n",
    "    - [Extended Data Figure 1](#fig1-figs1)\n",
    "    - [Extended Data Figure 2](#fig2-figs2)\n",
    "    - Extended Data Figures 3 and 4 are plotted in Matlab -- see the `src/Matlab` folder for details  \n",
    "    - [Extended Data Figure 5](#figs3-figs6)\n",
    "    - [Extended Data Figure 6](#fig4-figs4)\n",
    "    - [Supplementary Figure 1](#figs5)\n",
    "    - [Extended Data Figure 7](#figs3-figs6)\n",
    "    - [Extended Data Figure 8](#figs7-figs8)\n",
    "    - [Extended Data Figure 9](#figs7-figs8)\n",
    "    - [Supplementary Figure 2](#fig6-figs9)\n",
    "    - [Extended Data Figure 10](#figs11)"
   ]
  },
  {
   "cell_type": "markdown",
   "metadata": {},
   "source": [
    "<a id='global'></a>"
   ]
  },
  {
   "cell_type": "markdown",
   "metadata": {},
   "source": [
    "## Libraries and variables"
   ]
  },
  {
   "cell_type": "code",
   "execution_count": 1,
   "metadata": {},
   "outputs": [
    {
     "name": "stdout",
     "output_type": "stream",
     "text": [
      "This notebook was prepared using:\n",
      "python version 3.11.10 | packaged by conda-forge | (main, Oct 16 2024, 01:26:25) [Clang 17.0.6 ]\n",
      "numpy version 1.26.4\n",
      "scipy version 1.14.1\n",
      "pandas version 2.2.2\n",
      "matplotlib version 3.9.2\n"
     ]
    }
   ],
   "source": [
    "# Full library list and version numbers\n",
    "\n",
    "print('This notebook was prepared using:')\n",
    "\n",
    "import sys, os\n",
    "from copy import deepcopy\n",
    "from importlib import reload\n",
    "print('python version %s' % sys.version)\n",
    "\n",
    "import numpy as np\n",
    "print('numpy version %s' % np.__version__)\n",
    "\n",
    "import scipy as sp\n",
    "import scipy.stats as st\n",
    "print('scipy version %s' % sp.__version__)\n",
    "\n",
    "import pandas as pd\n",
    "print('pandas version %s' % pd.__version__)\n",
    "\n",
    "import matplotlib\n",
    "import matplotlib.cm as cm\n",
    "import matplotlib.pyplot as plot\n",
    "import matplotlib.gridspec as gridspec\n",
    "import matplotlib.image as mpimg\n",
    "print('matplotlib version %s' % matplotlib.__version__)\n",
    "\n",
    "import figures as fig\n",
    "import mplot as mp\n",
    "\n",
    "\n",
    "# GLOBAL VARIABLES\n",
    "\n",
    "NUC = ['-', 'A', 'C', 'G', 'T']\n",
    "REF = NUC[0]\n",
    "CONS_TAG = 'CONSENSUS'\n",
    "HXB2_TAG = 'B.FR.1983.HXB2-LAI-IIIB-BRU.K03455.19535'\n",
    "B_PPTS = ['700010470', '700010077', '700010058', '700010040', '700010607']\n",
    "C_PPTS = ['706010164', '705010198', '705010185', '705010162', '704010042', \n",
    "          '703010256', '703010159', '703010131', 'cap256']\n",
    "PPT2LABEL = {'700010470': 'CH470',\n",
    "             '700010077': 'CH77', \n",
    "             '700010058': 'CH58', \n",
    "             '700010040': 'CH40',\n",
    "             '706010164': 'CH164', \n",
    "             '705010198': 'CH198', \n",
    "             '705010185': 'CH185', \n",
    "             '705010162': 'CH162', \n",
    "             '704010042': 'CH42', \n",
    "             '703010256': 'CH256',\n",
    "             '703010159': 'CH159', \n",
    "             '703010131': 'CH131', \n",
    "             '700010607': 'CH607', \n",
    "             'cap256':    'CAP256'}\n",
    "\n",
    "FIGPROPS = { 'transparent' : True, }\n",
    "\n",
    "# # Code Ocean directories\n",
    "# HIV_DIR = '../data/HIV'\n",
    "# MPL_DIR = 'MPL'\n",
    "# SIM_DIR = '../data/simulation'\n",
    "# FIG_DIR = '../results'\n",
    "# HIV_MPL_DIR = '../data/HIV/MPL'\n",
    "\n",
    "# GitHub directories\n",
    "HIV_DIR = 'data/HIV'\n",
    "MPL_DIR = 'src/MPL'\n",
    "SIM_DIR = 'data/simulation'\n",
    "FIG_DIR = 'figures'\n",
    "HIV_MPL_DIR = 'src/MPL/HIV'\n",
    "\n",
    "TESTS   = [   'example',      'medium_simple',      'medium_complex']\n",
    "N_VALS  = dict(example=  1000, medium_simple=  1000, medium_complex=1000)\n",
    "L_VALS  = dict(example=    50, medium_simple=    50, medium_complex=  50)\n",
    "T0_VALS = dict(example=     0, medium_simple=     0, medium_complex=  10)\n",
    "T_VALS  = dict(example=   400, medium_simple=  1000, medium_complex= 310)\n",
    "MU_VALS = dict(example=  1e-3, medium_simple=  1e-4, medium_complex=1e-4)\n",
    "NB_VALS = dict(example=    10, medium_simple=    10, medium_complex=  10)\n",
    "ND_VALS = dict(example=    10, medium_simple=    10, medium_complex=  10)\n",
    "SB_VALS = dict(example= 0.025, medium_simple= 0.025, medium_complex= 0.1)\n",
    "SD_VALS = dict(example=-0.025, medium_simple=-0.025, medium_complex=-0.1)\n",
    "\n",
    "N_TRIALS     =  100  # number of independent trials to run for each test set\n",
    "COMP_NS_VALS = [100] # number of sequence samples to collect per time point \n",
    "COMP_DT_VALS = [ 10] # time between sampling events (in discrete generations)\n",
    "\n",
    "# NOTE: the values below are taken from `HIV-analysis.ipynb` from the output of the second code cell\n",
    "# If this same pipeline is run on new or different data, these values should be updated!\n",
    "\n",
    "# ALL SUBTYPES\n",
    "TOTAL_VARS       = 350045 # number of possible mutations\n",
    "TOTAL_NS_EPITOPE = 7155   # total number of nonsynonymous mutations in epitopes\n",
    "TOTAL_NS_REV     = 4383   # total number of nonsynonymous reversions\n",
    "TOTAL_NS_REV_EPI = 127    # total number of nonsynonymous reversions in epitopes\n",
    "\n",
    "# # Subtype B only\n",
    "# TOTAL_VARS       = 133601 # number of possible mutations\n",
    "# TOTAL_NS_EPITOPE = 3385   # total number of nonsynonymous mutations in epitopes\n",
    "# TOTAL_NS_REV     = 1736   # total number of nonsynonymous reversions\n",
    "# TOTAL_NS_REV_EPI = 66     # total number of nonsynonymous reversions in epitopes\n",
    "\n",
    "# # Subtype C only\n",
    "# TOTAL_VARS       = 216444 # number of possible mutations\n",
    "# TOTAL_NS_EPITOPE = 3545   # total number of nonsynonymous mutations in epitopes\n",
    "# TOTAL_NS_REV     = 2647   # total number of nonsynonymous reversions\n",
    "# TOTAL_NS_REV_EPI = 54     # total number of nonsynonymous reversions in epitopes"
   ]
  },
  {
   "cell_type": "code",
   "execution_count": null,
   "metadata": {},
   "outputs": [],
   "source": [
    "ch505 = '703010505-3-poly'\n",
    "ch848 = '703010848-3-poly'\n",
    "df = pd.read_csv('data/csv/%s.csv' % (ch505), comment='#', memory_map=True)\n",
    "int(df.iloc[-1].HXB2_index) - int(df.iloc[0].HXB2_index) + len(np.unique(df[df.HXB2_index.str.isnumeric()==False].HXB2_index))"
   ]
  },
  {
   "cell_type": "code",
   "execution_count": null,
   "metadata": {},
   "outputs": [],
   "source": [
    "from importlib import reload\n",
    "reload(mp)\n",
    "reload(fig)\n",
    "\n",
    "fig.plot_figure_ch505_ch848_circle()"
   ]
  },
  {
   "cell_type": "code",
   "execution_count": null,
   "metadata": {},
   "outputs": [],
   "source": [
    "from importlib import reload\n",
    "reload(mp)\n",
    "reload(fig)\n",
    "\n",
    "fig.plot_figure_ch505_structure(filename='fig-ch505-structure.png')"
   ]
  },
  {
   "cell_type": "code",
   "execution_count": null,
   "metadata": {},
   "outputs": [],
   "source": [
    "from importlib import reload\n",
    "reload(mp)\n",
    "reload(fig)\n",
    "\n",
    "fig.plot_figure_ch848_structure('fig-ch848-structure.png')"
   ]
  },
  {
   "cell_type": "code",
   "execution_count": null,
   "metadata": {},
   "outputs": [],
   "source": [
    "df_ch505 = pd.read_csv('data/csv/selection_RMs_common_mutations_SHIVCH505.csv')\n",
    "df_ch848 = pd.read_csv('data/csv/selection_RMs_common_mutations_SHIVCH848.csv')\n",
    "\n",
    "top_x = 20\n",
    "top_muts = ['N130D', 'N279D', 'K302N', 'Y330H', 'N334S', 'H417R']\n",
    "\n",
    "for df in [df_ch505, df_ch848]:\n",
    "    rank_mean  = np.argsort(np.array(df['mean_S']))[::-1]\n",
    "    rank_joint = np.argsort(np.array(df['RMs']))[::-1]\n",
    "    \n",
    "    m_count = 0\n",
    "    j_count = 0\n",
    "    print('')\n",
    "    print('rank\\tm mut\\tm s\\tm ct\\tj mut\\tj s\\tj ct')\n",
    "    for i in range(top_x):\n",
    "        m_mut = df.iloc[rank_mean[i]]\n",
    "        j_mut = df.iloc[rank_joint[i]]\n",
    "        if str(m_mut.mutation) in top_muts:\n",
    "            m_count += 1\n",
    "        if str(j_mut.mutation) in top_muts:\n",
    "            j_count += 1\n",
    "        print('%d\\t%s\\t%.3f\\t%d\\t%s\\t%.3f\\t%d' % (i+1, m_mut.mutation, m_mut.mean_S, m_count, j_mut.mutation, j_mut.RMs, j_count))"
   ]
  },
  {
   "cell_type": "code",
   "execution_count": null,
   "metadata": {},
   "outputs": [],
   "source": [
    "test_frac = 0.04\n",
    "\n",
    "df_ch505    = pd.read_csv('data/csv/enrichment_CH505_multiply_fraction.csv')\n",
    "df_ch505_rm = pd.read_csv('data/csv/enrichment_grouped_SHIV_CH505_multiply_fraction.csv')\n",
    "df_ch848    = pd.read_csv('data/csv/enrichment_CH848_multiply_fraction.csv')\n",
    "df_ch848_rm = pd.read_csv('data/csv/enrichment_grouped_SHIV_CH848_multiply_fraction.csv')\n",
    "\n",
    "df_ch505['P']    = 10**df_ch505['log10_P']\n",
    "df_ch505_rm['P'] = 10**df_ch505_rm['log10_P']\n",
    "df_ch848['P']    = 10**df_ch848['log10_P']\n",
    "df_ch848_rm['P'] = 10**df_ch848_rm['log10_P']\n",
    "\n",
    "print('CH505')\n",
    "df_ch505_sub = df_ch505[df_ch505['fraction']==test_frac]\n",
    "print(df_ch505_sub)\n",
    "print(np.sum(df_ch505_sub['num_cutoff']))\n",
    "\n",
    "print('\\nSHIV.CH505')\n",
    "df_ch505_rm_sub = df_ch505_rm[df_ch505_rm['fraction']==test_frac]\n",
    "print(df_ch505_rm_sub)\n",
    "print(np.sum(df_ch505_rm_sub['num_cutoff']))\n",
    "\n",
    "print('\\nCH848')\n",
    "df_ch848_sub = df_ch848[df_ch848['fraction']==test_frac]\n",
    "print(df_ch848_sub)\n",
    "print(np.sum(df_ch848_sub['num_cutoff']))\n",
    "\n",
    "print('\\nSHIV.CH848')\n",
    "df_ch848_rm_sub = df_ch848_rm[df_ch848_rm['fraction']==test_frac]\n",
    "print(df_ch848_rm_sub)\n",
    "print(np.sum(df_ch848_rm_sub['num_cutoff']))"
   ]
  },
  {
   "cell_type": "code",
   "execution_count": null,
   "metadata": {},
   "outputs": [],
   "source": [
    "df_ch505 = pd.read_csv('data/csv/selection_RMs_SHIVCH505.csv')\n",
    "df_ch848 = pd.read_csv('data/csv/selection_RMs_SHIVCH848.csv')\n",
    "\n",
    "top_n = 20\n",
    "\n",
    "for df in [df_ch505, df_ch848]:\n",
    "    mut_unique = np.array(np.unique(df['mutation']))\n",
    "    mut_count = np.array([len(np.unique(df[df['mutation']==m]['individual'])) for m in mut_unique])\n",
    "    s_avg = np.array([np.mean(df[df['mutation']==m]['selection']) for m in mut_unique])\n",
    "    s_rank = np.argsort(s_avg)[::-1]\n",
    "    mut_sort = mut_unique[s_rank[:top_n]]\n",
    "    count_sort = mut_count[s_rank[:top_n]]\n",
    "    s_sort = s_avg[s_rank[:top_n]]\n",
    "    print('mut\\t# RMs\\tavg s')\n",
    "    for i in range(top_n):\n",
    "        print('%s\\t%d\\t%.2f' % (mut_sort[i], count_sort[i], s_sort[i]))\n",
    "    print('')"
   ]
  },
  {
   "cell_type": "code",
   "execution_count": 47,
   "metadata": {},
   "outputs": [],
   "source": [
    "from importlib import reload\n",
    "reload(mp)\n",
    "reload(fig)\n",
    "\n",
    "pdata = {\n",
    "    's_files': ['data/csv/selection_vs_num-of-RMs_CH505.csv', 'data/csv/selection_vs_num-of-RMs_CH848.csv'],\n",
    "    'tags':    ['CH505', 'CH848']\n",
    "}\n",
    "\n",
    "fig.plot_selection_vs_rms(**pdata)"
   ]
  },
  {
   "cell_type": "code",
   "execution_count": null,
   "metadata": {},
   "outputs": [],
   "source": [
    "from importlib import reload\n",
    "reload(mp)\n",
    "reload(fig)\n",
    "\n",
    "pdata = {\n",
    "    's_files':    ['data/csv/fig3A_selection_vs_time.csv', 'data/csv/figS4A_selection_vs_time.csv'],\n",
    "    'traj_files': ['data/csv/fig3C_trajectory.csv', 'data/csv/figS4C_trajectory.csv'],\n",
    "    'tags':       ['CH505', 'CH848']\n",
    "}\n",
    "\n",
    "fig.plot_trajectory_selection(**pdata)"
   ]
  },
  {
   "cell_type": "code",
   "execution_count": 35,
   "metadata": {},
   "outputs": [],
   "source": [
    "from importlib import reload\n",
    "reload(mp)\n",
    "reload(fig)\n",
    "\n",
    "pdata = {\n",
    "    'traj_files': ['data/csv/fig3C_trajectory.csv', 'data/csv/figS4C_trajectory.csv'],\n",
    "    'tags':       ['CH505', 'CH848']\n",
    "}\n",
    "\n",
    "fig.plot_trajectory_expanded(**pdata)"
   ]
  },
  {
   "cell_type": "code",
   "execution_count": null,
   "metadata": {},
   "outputs": [],
   "source": [
    "from importlib import reload\n",
    "reload(mp)\n",
    "reload(fig)\n",
    "\n",
    "pdata = {\n",
    "    's_files':    ['data/csv/selection_RMs_SHIVCH505.csv', 'data/csv/selection_RMs_SHIVCH848.csv'],\n",
    "    'traj_files': ['data/csv/trajectories_RMs_SHIVCH505.csv', 'data/csv/trajectories_RMs_SHIVCH848.csv'],\n",
    "    'tags':       ['SHIV.CH505', 'SHIV.CH848'],\n",
    "    'rms':        ['RM5695', 'RM6167']\n",
    "}\n",
    "\n",
    "fig.plot_trajectory_selection_shiv(**pdata)"
   ]
  },
  {
   "cell_type": "code",
   "execution_count": null,
   "metadata": {},
   "outputs": [],
   "source": [
    "from importlib import reload\n",
    "reload(mp)\n",
    "reload(fig)\n",
    "\n",
    "pdata = {\n",
    "    'f_files':    ['data/csv/fig6A_fitness_change.csv', 'data/csv/figS6A_fitness_change.csv'],\n",
    "    'tags':       ['SHIV.CH505', 'SHIV.CH848'],\n",
    "    't_breadth':  dict(RM5695=16*7, RM6070=8*7, RM6163=80*7, RM6167=64*7),\n",
    "    'use_breadth': True,\n",
    "}\n",
    "\n",
    "fig.plot_fitness_gain_v_time(**pdata)"
   ]
  },
  {
   "cell_type": "code",
   "execution_count": 36,
   "metadata": {},
   "outputs": [],
   "source": [
    "from importlib import reload\n",
    "reload(mp)\n",
    "reload(fig)\n",
    "\n",
    "pdata = {\n",
    "    'f_files':    ['data/csv/fitness_change_w_categories_CH505.csv', 'data/csv/fitness_change_w_categories_CH848.csv'],\n",
    "    'tags':       ['SHIV.CH505', 'SHIV.CH848'],\n",
    "    # 't_breadth':  dict(RM5695=16*7, RM6070=8*7, RM6163=80*7, RM6167=64*7),\n",
    "    'use_breadth': True,\n",
    "}\n",
    "\n",
    "fig.plot_fitness_gain_v_time_categories(**pdata)"
   ]
  },
  {
   "cell_type": "code",
   "execution_count": null,
   "metadata": {},
   "outputs": [],
   "source": [
    "from importlib import reload\n",
    "reload(mp)\n",
    "reload(fig)\n",
    "\n",
    "pdata = {\n",
    "    'f_files': ['data/csv/fig4A_fitness_comparison.csv', 'data/csv/fig4B_fitness_comparison.csv'],\n",
    "    'tags':    ['CH505', 'CH848']\n",
    "}\n",
    "\n",
    "fig.plot_fitness_comparison(**pdata)"
   ]
  },
  {
   "cell_type": "code",
   "execution_count": null,
   "metadata": {},
   "outputs": [],
   "source": [
    "from importlib import reload\n",
    "reload(mp)\n",
    "reload(fig)\n",
    "\n",
    "pdata = {\n",
    "    'f_files': ['data/csv/fig4A_fitness_comparison.csv', 'data/csv/fig4B_fitness_comparison.csv'],\n",
    "    'tags':    ['CH505', 'CH848']\n",
    "}\n",
    "\n",
    "fig.plot_fitness_comparison_horizontal(**pdata)"
   ]
  },
  {
   "cell_type": "code",
   "execution_count": null,
   "metadata": {},
   "outputs": [],
   "source": [
    "from importlib import reload\n",
    "reload(mp)\n",
    "reload(fig)\n",
    "\n",
    "pdata = {\n",
    "    'f_files':    ['data/csv/figS3A_fitness_comparison_using_shuffled_seq.csv', 'data/csv/figS3B_fitness_comparison_using_shuffled_seq.csv'],\n",
    "    'tags':       ['CH505', 'CH848'],\n",
    "    'filename':   'fig-f-compare-h-shuffle-wide',\n",
    "    'use_breadth': False\n",
    "}\n",
    "\n",
    "fig.plot_fitness_comparison_horizontal(**pdata)"
   ]
  },
  {
   "cell_type": "code",
   "execution_count": null,
   "metadata": {},
   "outputs": [],
   "source": [
    "df = pd.read_csv('data/csv/fig3A_selection_vs_time.csv')\n",
    "df_sub = df[(df['mutation'].str.contains('-142')) & (df['category']=='CH103')]\n",
    "print(len(df[df['category']=='CH103']), len(df_sub))\n",
    "df_sub.head()\n",
    "#print(len(np.unique(df_sub['mutation'])))"
   ]
  }
 ],
 "metadata": {
  "kernelspec": {
   "display_name": "Python 3 (ipykernel)",
   "language": "python",
   "name": "python3"
  },
  "language_info": {
   "codemirror_mode": {
    "name": "ipython",
    "version": 3
   },
   "file_extension": ".py",
   "mimetype": "text/x-python",
   "name": "python",
   "nbconvert_exporter": "python",
   "pygments_lexer": "ipython3",
   "version": "3.11.10"
  },
  "toc": {
   "base_numbering": 1,
   "nav_menu": {},
   "number_sections": true,
   "sideBar": true,
   "skip_h1_title": false,
   "title_cell": "Table of Contents",
   "title_sidebar": "Contents",
   "toc_cell": false,
   "toc_position": {},
   "toc_section_display": true,
   "toc_window_display": false
  }
 },
 "nbformat": 4,
 "nbformat_minor": 4
}
