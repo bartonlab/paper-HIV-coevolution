{
 "cells": [
  {
   "cell_type": "markdown",
   "metadata": {},
   "source": [
    "<a id='contents'></a>"
   ]
  },
  {
   "cell_type": "markdown",
   "metadata": {},
   "source": [
    "# Figures and analysis\n",
    "\n",
    "This notebook contains scripts for producing the main figures and results accompanying the manuscript. Here we perform basic organization and processing of data, which is then passed to functions in `figures.py` and `mplot.py` (available at this [GitHub repository](https://github.com/johnbarton/mplot)) for detailed formatting. The figures produced are stored as PDFs in the `/figures` folder.\n",
    "\n",
    "## Contents\n",
    "\n",
    "- [Overview and table of contents](#contents)\n",
    "- [Loading libraries and global variables](#global)\n",
    "- [Figures and data analysis](#figures)  "
   ]
  },
  {
   "cell_type": "markdown",
   "metadata": {},
   "source": [
    "<a id='global'></a>"
   ]
  },
  {
   "cell_type": "markdown",
   "metadata": {},
   "source": [
    "## Libraries and variables"
   ]
  },
  {
   "cell_type": "code",
   "execution_count": 1,
   "metadata": {},
   "outputs": [
    {
     "name": "stdout",
     "output_type": "stream",
     "text": [
      "This notebook was prepared using:\n",
      "python version 3.11.10 | packaged by conda-forge | (main, Oct 16 2024, 01:26:25) [Clang 17.0.6 ]\n",
      "numpy version 1.26.4\n",
      "scipy version 1.14.1\n",
      "pandas version 2.2.2\n",
      "matplotlib version 3.9.2\n"
     ]
    }
   ],
   "source": [
    "# Full library list and version numbers\n",
    "\n",
    "print('This notebook was prepared using:')\n",
    "\n",
    "import sys, os\n",
    "from copy import deepcopy\n",
    "from importlib import reload\n",
    "print('python version %s' % sys.version)\n",
    "\n",
    "import numpy as np\n",
    "print('numpy version %s' % np.__version__)\n",
    "\n",
    "import scipy as sp\n",
    "import scipy.stats as st\n",
    "print('scipy version %s' % sp.__version__)\n",
    "\n",
    "import pandas as pd\n",
    "print('pandas version %s' % pd.__version__)\n",
    "\n",
    "import matplotlib\n",
    "import matplotlib.cm as cm\n",
    "import matplotlib.pyplot as plot\n",
    "import matplotlib.gridspec as gridspec\n",
    "import matplotlib.image as mpimg\n",
    "print('matplotlib version %s' % matplotlib.__version__)\n",
    "\n",
    "import figures as fig\n",
    "import mplot as mp"
   ]
  },
  {
   "cell_type": "code",
   "execution_count": 2,
   "metadata": {},
   "outputs": [
    {
     "name": "stdout",
     "output_type": "stream",
     "text": [
      "0.0891913699999999 -0.03781679\n",
      "0.12553002 -0.03616553\n",
      "CH505-CH848 done.\n"
     ]
    }
   ],
   "source": [
    "from importlib import reload\n",
    "reload(mp)\n",
    "reload(fig)\n",
    "\n",
    "fig.plot_figure_ch505_ch848_circle()"
   ]
  },
  {
   "cell_type": "code",
   "execution_count": 3,
   "metadata": {},
   "outputs": [
    {
     "name": "stdout",
     "output_type": "stream",
     "text": [
      "(-0.5, 715.5) (650.5, -0.5)\n",
      "CH505-structure done.\n"
     ]
    }
   ],
   "source": [
    "from importlib import reload\n",
    "reload(mp)\n",
    "reload(fig)\n",
    "\n",
    "fig.plot_figure_ch505_structure(filename='fig-ch505-structure.png')"
   ]
  },
  {
   "cell_type": "code",
   "execution_count": 4,
   "metadata": {},
   "outputs": [
    {
     "name": "stdout",
     "output_type": "stream",
     "text": [
      "(-0.5, 770.5) (705.5, -0.5)\n",
      "CH848-structure done.\n"
     ]
    }
   ],
   "source": [
    "from importlib import reload\n",
    "reload(mp)\n",
    "reload(fig)\n",
    "\n",
    "fig.plot_figure_ch848_structure('fig-ch848-structure.png')"
   ]
  },
  {
   "cell_type": "code",
   "execution_count": 5,
   "metadata": {},
   "outputs": [
    {
     "name": "stdout",
     "output_type": "stream",
     "text": [
      "\n",
      "rank\tm mut\tm s\tm ct\tj mut\tj s\tj ct\n",
      "1\tN334S\t0.032\t1\tN334S\t0.024\t1\n",
      "2\tY330H\t0.026\t2\tY330H\t0.020\t2\n",
      "3\tK302N\t0.022\t3\tN279D\t0.017\t3\n",
      "4\tN279D\t0.019\t4\tK462E\t0.014\t3\n",
      "5\tH356N\t0.017\t4\tH356N\t0.012\t3\n",
      "6\tH417R\t0.017\t5\tK302N\t0.012\t4\n",
      "7\tK462E\t0.016\t5\tG153E\t0.011\t4\n",
      "8\tT234N\t0.016\t5\t-147N\t0.011\t4\n",
      "9\tG153E\t0.013\t5\tN130D\t0.010\t5\n",
      "10\tN130D\t0.011\t6\tT234N\t0.009\t5\n",
      "11\tN474D\t0.010\t6\tH417R\t0.009\t6\n",
      "12\tN276D\t0.010\t6\tV518M\t0.008\t6\n",
      "13\tN230S\t0.009\t6\tS137N\t0.008\t6\n",
      "14\tH356Y\t0.009\t6\tI150S\t0.008\t6\n",
      "15\t-147N\t0.008\t6\tN230S\t0.007\t6\n",
      "16\tV518M\t0.008\t6\tT132A\t0.007\t6\n",
      "17\tS137N\t0.008\t6\tE507G\t0.006\t6\n",
      "18\tT132A\t0.007\t6\tH356Y\t0.006\t6\n",
      "19\tN464D\t0.007\t6\tT132I\t0.006\t6\n",
      "20\tT408A\t0.007\t6\tN279-\t0.006\t6\n",
      "\n",
      "rank\tm mut\tm s\tm ct\tj mut\tj s\tj ct\n",
      "1\tP179L\t0.020\t0\tP179L\t0.020\t0\n",
      "2\tN413T\t0.016\t0\tN413T\t0.017\t0\n",
      "3\tN462S\t0.016\t0\tN413S\t0.014\t0\n",
      "4\tR336E\t0.015\t0\tD137S\t0.013\t0\n",
      "5\tN413S\t0.015\t0\tN462T\t0.013\t0\n",
      "6\tT459aI\t0.014\t0\tS407N\t0.012\t0\n",
      "7\tN462D\t0.014\t0\tR336E\t0.012\t0\n",
      "8\tT459a-\t0.013\t0\tP179S\t0.012\t0\n",
      "9\tS407N\t0.013\t0\tV142fA\t0.012\t0\n",
      "10\tR336K\t0.012\t0\tN462D\t0.012\t0\n",
      "11\tP179S\t0.012\t0\tR336K\t0.011\t0\n",
      "12\tI406T\t0.011\t0\tN462S\t0.011\t0\n",
      "13\tR336G\t0.011\t0\tS145N\t0.011\t0\n",
      "14\tD137N\t0.011\t0\tD325N\t0.010\t0\n",
      "15\tY405-\t0.010\t0\tG152E\t0.009\t0\n",
      "16\tH651N\t0.010\t0\tE463K\t0.009\t0\n",
      "17\tN462T\t0.010\t0\tH651N\t0.009\t0\n",
      "18\tV142fA\t0.010\t0\tS407T\t0.009\t0\n",
      "19\t-399D\t0.010\t0\tT411N\t0.009\t0\n",
      "20\tY405D\t0.010\t0\tY405-\t0.009\t0\n"
     ]
    }
   ],
   "source": [
    "df_ch505 = pd.read_csv('data/processed/selection_RMs_common_mutations_SHIVCH505.csv')\n",
    "df_ch848 = pd.read_csv('data/processed/selection_RMs_common_mutations_SHIVCH848.csv')\n",
    "\n",
    "top_x = 20\n",
    "top_muts = ['N130D', 'N279D', 'K302N', 'Y330H', 'N334S', 'H417R']\n",
    "\n",
    "for df in [df_ch505, df_ch848]:\n",
    "    rank_mean  = np.argsort(np.array(df['mean_S']))[::-1]\n",
    "    rank_joint = np.argsort(np.array(df['RMs']))[::-1]\n",
    "    \n",
    "    m_count = 0\n",
    "    j_count = 0\n",
    "    print('')\n",
    "    print('rank\\tm mut\\tm s\\tm ct\\tj mut\\tj s\\tj ct')\n",
    "    for i in range(top_x):\n",
    "        m_mut = df.iloc[rank_mean[i]]\n",
    "        j_mut = df.iloc[rank_joint[i]]\n",
    "        if str(m_mut.mutation) in top_muts:\n",
    "            m_count += 1\n",
    "        if str(j_mut.mutation) in top_muts:\n",
    "            j_count += 1\n",
    "        print('%d\\t%s\\t%.3f\\t%d\\t%s\\t%.3f\\t%d' % (i+1, m_mut.mutation, m_mut.mean_S, m_count, j_mut.mutation, j_mut.RMs, j_count))"
   ]
  },
  {
   "cell_type": "code",
   "execution_count": 6,
   "metadata": {},
   "outputs": [
    {
     "name": "stdout",
     "output_type": "stream",
     "text": [
      "CH505\n",
      "    categories  fraction  num_cutoff  enrichment   log10_P             P\n",
      "15          LD      0.04           3    8.001882 -1.696659  2.010669e-02\n",
      "34       CD4BS      0.04           3    1.795544 -0.631573  2.335754e-01\n",
      "53          V1      0.04           6    8.179702 -3.006772  9.845274e-04\n",
      "72          V2      0.04           2    1.194117 -0.588050  2.581963e-01\n",
      "91          V3      0.04           7    4.921884 -2.231098  5.873564e-03\n",
      "110         V4      0.04          10    7.112784 -4.206573  6.214791e-05\n",
      "129         V5      0.04           4   10.669177 -2.548404  2.828756e-03\n",
      "148  Reversion      0.04          11   12.142706 -6.843870  1.432615e-07\n",
      "167       Hole      0.04           3    1.047609 -0.780847  1.656353e-01\n",
      "186     Shield      0.04           6   30.972796 -6.240632  5.746030e-07\n",
      "205      Shift      0.04           2   79.152700 -3.154002  7.014525e-04\n",
      "224        PNG      0.04           7    2.308620 -0.981163  1.044327e-01\n",
      "64\n",
      "\n",
      "SHIV.CH505\n",
      "    categories  fraction  num_cutoff  enrichment    log10_P             P\n",
      "15          LD      0.04           7    8.885204  -3.684794  2.066359e-04\n",
      "34       CD4BS      0.04           6    1.708931  -0.778306  1.666074e-01\n",
      "53          V1      0.04           2    1.297522  -0.562334  2.739466e-01\n",
      "72          V2      0.04           3    0.852387  -0.962853  1.089299e-01\n",
      "91          V3      0.04           6    2.007627  -0.841450  1.440623e-01\n",
      "110         V4      0.04          12    4.061808  -2.788515  1.627365e-03\n",
      "129         V5      0.04           6    7.615889  -2.890188  1.287692e-03\n",
      "148  Reversion      0.04          23   15.798864 -16.871541  1.344186e-17\n",
      "167       Hole      0.04          10    1.763828  -0.897787  1.265358e-01\n",
      "186     Shield      0.04          14   38.627840 -15.927422  1.181893e-16\n",
      "205      Shift      0.04           8  154.511361 -16.771631  1.691878e-17\n",
      "224        PNG      0.04          16    2.675521  -1.880383  1.317096e-02\n",
      "113\n",
      "\n",
      "CH848\n",
      "    categories  fraction  num_cutoff  enrichment    log10_P             P\n",
      "15          LD      0.04           3    4.496186  -1.300691  5.003909e-02\n",
      "34       CD4BS      0.04           6    1.756021  -0.864297  1.366793e-01\n",
      "53          V1      0.04          24    9.460184 -13.332007  4.655787e-14\n",
      "72          V2      0.04           3    0.951519  -0.723809  1.888821e-01\n",
      "91          V3      0.04          10    3.907860  -2.747426  1.788852e-03\n",
      "110         V4      0.04           5    2.426767  -1.060335  8.702920e-02\n",
      "129         V5      0.04           9   10.767183  -5.761517  1.731742e-06\n",
      "148  Reversion      0.04          21    9.326200 -11.673520  2.120704e-12\n",
      "167       Hole      0.04           6    0.953607  -0.964176  1.085984e-01\n",
      "186     Shield      0.04          20   29.770306 -21.030369  9.324622e-22\n",
      "205      Shift      0.04           3   59.327966  -4.500191  3.160886e-05\n",
      "224        PNG      0.04          23    3.326995  -4.460588  3.462676e-05\n",
      "133\n",
      "\n",
      "SHIV.CH848\n",
      "    categories  fraction  num_cutoff  enrichment    log10_P             P\n",
      "15          LD      0.04           2    1.753201  -0.555662  2.781879e-01\n",
      "34       CD4BS      0.04           4    0.668936  -1.439760  3.632792e-02\n",
      "53          V1      0.04          30    6.347798 -11.479795  3.312878e-12\n",
      "72          V2      0.04          11    2.040645  -1.157874  6.952252e-02\n",
      "91          V3      0.04           2    0.457138  -1.487324  3.255940e-02\n",
      "110         V4      0.04          17    4.825983  -5.007179  9.836058e-06\n",
      "129         V5      0.04           7    4.898199  -2.429941  3.715858e-03\n",
      "148  Reversion      0.04          26   12.288143 -17.105494  7.843433e-18\n",
      "167       Hole      0.04          15    1.578223  -0.978997  1.049549e-01\n",
      "186     Shield      0.04          27   41.887902 -33.796308  1.598424e-34\n",
      "205      Shift      0.04          10  113.030846 -20.320199  4.784106e-21\n",
      "224        PNG      0.04          32    3.180768  -5.048525  8.942838e-06\n",
      "183\n"
     ]
    }
   ],
   "source": [
    "test_frac = 0.04\n",
    "\n",
    "df_ch505    = pd.read_csv('data/processed/enrichment_CH505_multiply_fraction.csv')\n",
    "df_ch505_rm = pd.read_csv('data/processed/enrichment_grouped_SHIV_CH505_multiply_fraction.csv')\n",
    "df_ch848    = pd.read_csv('data/processed/enrichment_CH848_multiply_fraction.csv')\n",
    "df_ch848_rm = pd.read_csv('data/processed/enrichment_grouped_SHIV_CH848_multiply_fraction.csv')\n",
    "\n",
    "df_ch505['P']    = 10**df_ch505['log10_P']\n",
    "df_ch505_rm['P'] = 10**df_ch505_rm['log10_P']\n",
    "df_ch848['P']    = 10**df_ch848['log10_P']\n",
    "df_ch848_rm['P'] = 10**df_ch848_rm['log10_P']\n",
    "\n",
    "print('CH505')\n",
    "df_ch505_sub = df_ch505[df_ch505['fraction']==test_frac]\n",
    "print(df_ch505_sub)\n",
    "print(np.sum(df_ch505_sub['num_cutoff']))\n",
    "\n",
    "print('\\nSHIV.CH505')\n",
    "df_ch505_rm_sub = df_ch505_rm[df_ch505_rm['fraction']==test_frac]\n",
    "print(df_ch505_rm_sub)\n",
    "print(np.sum(df_ch505_rm_sub['num_cutoff']))\n",
    "\n",
    "print('\\nCH848')\n",
    "df_ch848_sub = df_ch848[df_ch848['fraction']==test_frac]\n",
    "print(df_ch848_sub)\n",
    "print(np.sum(df_ch848_sub['num_cutoff']))\n",
    "\n",
    "print('\\nSHIV.CH848')\n",
    "df_ch848_rm_sub = df_ch848_rm[df_ch848_rm['fraction']==test_frac]\n",
    "print(df_ch848_rm_sub)\n",
    "print(np.sum(df_ch848_rm_sub['num_cutoff']))"
   ]
  },
  {
   "cell_type": "code",
   "execution_count": 7,
   "metadata": {},
   "outputs": [
    {
     "name": "stdout",
     "output_type": "stream",
     "text": [
      "mut\t# RMs\tavg s\n",
      "N334S\t7\t0.03\n",
      "P8T\t1\t0.03\n",
      "Y330H\t6\t0.03\n",
      "T618N\t1\t0.02\n",
      "K302N\t4\t0.02\n",
      "T406I\t1\t0.02\n",
      "N279D\t5\t0.02\n",
      "H417R\t7\t0.02\n",
      "T234N\t4\t0.02\n",
      "N404D\t2\t0.01\n",
      "T406D\t1\t0.01\n",
      "P8S\t2\t0.01\n",
      "N230K\t1\t0.01\n",
      "N334-\t1\t0.01\n",
      "R166K\t2\t0.01\n",
      "N130D\t5\t0.01\n",
      "T406A\t1\t0.01\n",
      "N404S\t1\t0.01\n",
      "N276D\t4\t0.01\n",
      "T676A\t3\t0.01\n",
      "\n",
      "mut\t# RMs\tavg s\n",
      "N142gS\t2\t0.02\n",
      "N413I\t1\t0.02\n",
      "N462P\t1\t0.02\n",
      "K340-\t1\t0.02\n",
      "N413H\t2\t0.02\n",
      "N413T\t5\t0.02\n",
      "N462S\t5\t0.02\n",
      "N413S\t6\t0.01\n",
      "N413K\t2\t0.01\n",
      "S334G\t1\t0.01\n",
      "N462D\t5\t0.01\n",
      "N142gT\t2\t0.01\n",
      "I150T\t1\t0.01\n",
      "Y405N\t3\t0.01\n",
      "T144N\t1\t0.01\n",
      "D137N\t6\t0.01\n",
      "N142gV\t1\t0.01\n",
      "N462T\t4\t0.01\n",
      "N448S\t3\t0.01\n",
      "S461R\t1\t0.01\n",
      "\n"
     ]
    }
   ],
   "source": [
    "df_ch505 = pd.read_csv('data/processed/selection_RMs_SHIVCH505.csv')\n",
    "df_ch848 = pd.read_csv('data/processed/selection_RMs_SHIVCH848.csv')\n",
    "\n",
    "top_n = 20\n",
    "\n",
    "for df in [df_ch505, df_ch848]:\n",
    "    mut_unique = np.array(np.unique(df['mutation']))\n",
    "    mut_count = np.array([len(np.unique(df[df['mutation']==m]['individual'])) for m in mut_unique])\n",
    "    s_avg = np.array([np.mean(df[df['mutation']==m]['selection']) for m in mut_unique])\n",
    "    s_rank = np.argsort(s_avg)[::-1]\n",
    "    mut_sort = mut_unique[s_rank[:top_n]]\n",
    "    count_sort = mut_count[s_rank[:top_n]]\n",
    "    s_sort = s_avg[s_rank[:top_n]]\n",
    "    print('mut\\t# RMs\\tavg s')\n",
    "    for i in range(top_n):\n",
    "        print('%s\\t%d\\t%.2f' % (mut_sort[i], count_sort[i], s_sort[i]))\n",
    "    print('')"
   ]
  },
  {
   "cell_type": "code",
   "execution_count": 8,
   "metadata": {},
   "outputs": [],
   "source": [
    "from importlib import reload\n",
    "reload(mp)\n",
    "reload(fig)\n",
    "\n",
    "pdata = {\n",
    "    's_files': ['data/processed/selection_vs_num-of-RMs_CH505.csv', 'data/processed/selection_vs_num-of-RMs_CH848.csv'],\n",
    "    'tags':    ['CH505', 'CH848']\n",
    "}\n",
    "\n",
    "fig.plot_selection_vs_rms(**pdata)"
   ]
  },
  {
   "cell_type": "code",
   "execution_count": 9,
   "metadata": {},
   "outputs": [],
   "source": [
    "from importlib import reload\n",
    "reload(mp)\n",
    "reload(fig)\n",
    "\n",
    "pdata = {\n",
    "    's_files':    ['data/processed/fig3A_selection_vs_time.csv', 'data/processed/figS4A_selection_vs_time.csv'],\n",
    "    'traj_files': ['data/processed/fig3C_trajectory.csv', 'data/processed/figS4C_trajectory.csv'],\n",
    "    'tags':       ['CH505', 'CH848']\n",
    "}\n",
    "\n",
    "fig.plot_trajectory_selection(**pdata)"
   ]
  },
  {
   "cell_type": "code",
   "execution_count": 10,
   "metadata": {},
   "outputs": [],
   "source": [
    "from importlib import reload\n",
    "reload(mp)\n",
    "reload(fig)\n",
    "\n",
    "pdata = {\n",
    "    'traj_files': ['data/processed/fig3C_trajectory.csv', 'data/processed/figS4C_trajectory.csv'],\n",
    "    'tags':       ['CH505', 'CH848']\n",
    "}\n",
    "\n",
    "fig.plot_trajectory_expanded(**pdata)"
   ]
  },
  {
   "cell_type": "code",
   "execution_count": 11,
   "metadata": {},
   "outputs": [],
   "source": [
    "from importlib import reload\n",
    "reload(mp)\n",
    "reload(fig)\n",
    "\n",
    "pdata = {\n",
    "    's_files':    ['data/processed/selection_RMs_SHIVCH505.csv', 'data/processed/selection_RMs_SHIVCH848.csv'],\n",
    "    'traj_files': ['data/processed/trajectories_RMs_SHIVCH505.csv', 'data/processed/trajectories_RMs_SHIVCH848.csv'],\n",
    "    'tags':       ['SHIV.CH505', 'SHIV.CH848'],\n",
    "    'rms':        ['RM5695', 'RM6167']\n",
    "}\n",
    "\n",
    "fig.plot_trajectory_selection_shiv(**pdata)"
   ]
  },
  {
   "cell_type": "code",
   "execution_count": 12,
   "metadata": {},
   "outputs": [],
   "source": [
    "from importlib import reload\n",
    "reload(mp)\n",
    "reload(fig)\n",
    "\n",
    "pdata = {\n",
    "    'f_files':    ['data/processed/fig6A_fitness_change.csv', 'data/processed/figS6A_fitness_change.csv'],\n",
    "    'tags':       ['SHIV.CH505', 'SHIV.CH848'],\n",
    "    't_breadth':  dict(RM5695=16*7, RM6070=8*7, RM6163=80*7, RM6167=64*7),\n",
    "    'use_breadth': True,\n",
    "}\n",
    "\n",
    "fig.plot_fitness_gain_v_time(**pdata)"
   ]
  },
  {
   "cell_type": "code",
   "execution_count": 13,
   "metadata": {},
   "outputs": [],
   "source": [
    "from importlib import reload\n",
    "reload(mp)\n",
    "reload(fig)\n",
    "\n",
    "pdata = {\n",
    "    'f_files':    ['data/processed/fitness_change_w_categories_CH505.csv', 'data/processed/fitness_change_w_categories_CH848.csv'],\n",
    "    'tags':       ['SHIV.CH505', 'SHIV.CH848'],\n",
    "    # 't_breadth':  dict(RM5695=16*7, RM6070=8*7, RM6163=80*7, RM6167=64*7),\n",
    "    'use_breadth': True,\n",
    "}\n",
    "\n",
    "fig.plot_fitness_gain_v_time_categories(**pdata)"
   ]
  },
  {
   "cell_type": "code",
   "execution_count": 14,
   "metadata": {},
   "outputs": [
    {
     "name": "stdout",
     "output_type": "stream",
     "text": [
      "0.8060000000000002\n",
      "CH505 PearsonRResult(statistic=0.9613279468407108, pvalue=0.0)\n",
      "CH848 PearsonRResult(statistic=0.9549845148431755, pvalue=0.0)\n"
     ]
    }
   ],
   "source": [
    "from importlib import reload\n",
    "reload(mp)\n",
    "reload(fig)\n",
    "\n",
    "pdata = {\n",
    "    'f_files': ['data/processed/fig4A_fitness_comparison.csv', 'data/processed/fig4B_fitness_comparison.csv'],\n",
    "    'tags':    ['CH505', 'CH848']\n",
    "}\n",
    "\n",
    "fig.plot_fitness_comparison(**pdata)"
   ]
  },
  {
   "cell_type": "code",
   "execution_count": 15,
   "metadata": {},
   "outputs": [
    {
     "name": "stdout",
     "output_type": "stream",
     "text": [
      "0.3285714285714286\n",
      "CH505 PearsonRResult(statistic=0.9613279468407108, pvalue=0.0)\n",
      "CH848 PearsonRResult(statistic=0.9549845148431755, pvalue=0.0)\n"
     ]
    }
   ],
   "source": [
    "from importlib import reload\n",
    "reload(mp)\n",
    "reload(fig)\n",
    "\n",
    "pdata = {\n",
    "    'f_files': ['data/processed/fig4A_fitness_comparison.csv', 'data/processed/fig4B_fitness_comparison.csv'],\n",
    "    'tags':    ['CH505', 'CH848']\n",
    "}\n",
    "\n",
    "fig.plot_fitness_comparison_horizontal(**pdata)"
   ]
  },
  {
   "cell_type": "code",
   "execution_count": 16,
   "metadata": {},
   "outputs": [
    {
     "name": "stdout",
     "output_type": "stream",
     "text": [
      "0.3285714285714286\n",
      "CH505 PearsonRResult(statistic=0.8419526537177966, pvalue=0.0)\n",
      "CH848 PearsonRResult(statistic=0.7438102116203521, pvalue=8.399517373586148e-287)\n"
     ]
    }
   ],
   "source": [
    "from importlib import reload\n",
    "reload(mp)\n",
    "reload(fig)\n",
    "\n",
    "pdata = {\n",
    "    'f_files':    ['data/processed/figS3A_fitness_comparison_using_shuffled_seq.csv', 'data/processed/figS3B_fitness_comparison_using_shuffled_seq.csv'],\n",
    "    'tags':       ['CH505', 'CH848'],\n",
    "    'filename':   'fig-f-compare-h-shuffle-wide',\n",
    "    'use_breadth': False\n",
    "}\n",
    "\n",
    "fig.plot_fitness_comparison_horizontal(**pdata)"
   ]
  }
 ],
 "metadata": {
  "kernelspec": {
   "display_name": "Python 3 (ipykernel)",
   "language": "python",
   "name": "python3"
  },
  "language_info": {
   "codemirror_mode": {
    "name": "ipython",
    "version": 3
   },
   "file_extension": ".py",
   "mimetype": "text/x-python",
   "name": "python",
   "nbconvert_exporter": "python",
   "pygments_lexer": "ipython3",
   "version": "3.11.10"
  },
  "toc": {
   "base_numbering": 1,
   "nav_menu": {},
   "number_sections": true,
   "sideBar": true,
   "skip_h1_title": false,
   "title_cell": "Table of Contents",
   "title_sidebar": "Contents",
   "toc_cell": false,
   "toc_position": {},
   "toc_section_display": true,
   "toc_window_display": false
  }
 },
 "nbformat": 4,
 "nbformat_minor": 4
}
