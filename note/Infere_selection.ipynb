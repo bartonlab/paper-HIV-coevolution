{
 "cells": [
  {
   "cell_type": "markdown",
   "id": "403c01be-3ea9-4899-8063-7f4c8ae24609",
   "metadata": {},
   "source": [
    "# Making a job script for HIV data. "
   ]
  },
  {
   "cell_type": "code",
   "execution_count": null,
   "id": "eb0140dc-34a9-407f-8141-df7d2a07169f",
   "metadata": {},
   "outputs": [],
   "source": [
    "# Output folder for scripts\n",
    "output_dir = \"../jobs/\"\n",
    "mkdir(output_dir)"
   ]
  },
  {
   "cell_type": "code",
   "execution_count": 9,
   "id": "98189139-41e6-4064-80bf-3adc4ea6cdaf",
   "metadata": {},
   "outputs": [
    {
     "data": {
      "text/plain": [
       "Process(`\u001b[4mchmod\u001b[24m \u001b[4m+x\u001b[24m \u001b[4m../jobs/run_mpl_HIV.sh\u001b[24m`, ProcessExited(0))"
      ]
     },
     "execution_count": 9,
     "metadata": {},
     "output_type": "execute_result"
    }
   ],
   "source": [
    "# Define the sample IDs\n",
    "sample_ids = [\"703010505\", \"703010848\"]\n",
    "\n",
    "# Start the script content\n",
    "script_content = \"\"\"\n",
    "#!/bin/bash -l\n",
    "#SBATCH --job-name=\"MPL\"\n",
    "hostname date\n",
    "mkdir -p /HIV\n",
    "\n",
    "date\n",
    "hostname\n",
    "# ----------- Start Main Computation ---------------#\n",
    "g++ src/main.cpp src/inf.cpp src/io.cpp -O3 -march=native -lgslcblas -lgsl -o bin/mpl\n",
    "\"\"\"\n",
    "\n",
    "# Add a line for each sample ID\n",
    "for id in sample_ids\n",
    "    script_content *= \"\"\"\n",
    "./bin/mpl -d HIV -i $(id)-3-poly-seq2state.dat -o $(id)-3-poly-seq2state-MPL.dat -g 1e5 -N 1e4 -m Zanini-extended.dat -sc covariance-$(id)-3-poly-seq2state.dat -sn numerator-$(id)-3-poly-seq2state.dat\n",
    "./bin/mpl -d HIV -i $(id)-3-poly-seq2state.dat -o $(id)-3-poly-seq2state-SL.dat  -g 1e5 -N 1e4 -m Zanini-extended.dat -nc\n",
    "\"\"\"\n",
    "end\n",
    "\n",
    "# Add footer\n",
    "script_content *= \"\"\"\n",
    "date\n",
    "hostname\n",
    "exit 0\n",
    "\"\"\"\n",
    "\n",
    "# Write to file\n",
    "script_path = output_dir * \"run_mpl_HIV.sh\"\n",
    "open( Write, \"w\") do file\n",
    "    write(file, script_content)\n",
    "end\n",
    "\n",
    "# Make the file executable\n",
    "run(`chmod +x $script_path`)\n"
   ]
  },
  {
   "cell_type": "markdown",
   "id": "19e784b8-36e2-411f-8a2d-b5a756ee488e",
   "metadata": {},
   "source": [
    "# Making a job script for SHIV data. "
   ]
  },
  {
   "cell_type": "code",
   "execution_count": 10,
   "id": "69b708f2-004e-4dea-9812-bd8ec096b56c",
   "metadata": {},
   "outputs": [],
   "source": [
    "# Dictionary: group name => list of sample IDs\n",
    "datasets = Dict(\n",
    "    \"CH505\" => [\"703010505\", \"RM5695\", \"RM6070\", \"RM6072\", \"RM6697\", \"RM6699\", \"RM6701\", \"RM6703\"],\n",
    "    \"CH848\" => [\"RM6163\", \"RM6167\", \"RM6700\", \"RM6713\", \"RM6714\", \"RM6720\", \"703010848\"]\n",
    ")\n",
    "\n",
    "# Loop over both groups\n",
    "for (group, ids) in datasets\n",
    "    # Initialize the script content\n",
    "    script_content = \"\"\"\n",
    "#!/bin/bash -l\n",
    "#SBATCH --job-name=\"MPL_$(group)\"\n",
    "hostname date\n",
    "mkdir -p /HIV/$(group)\n",
    "\n",
    "date\n",
    "hostname\n",
    "# ----------- Start Main Computation ---------------#\n",
    "\"\"\"\n",
    "\n",
    "    # Add commands for each ID in the group\n",
    "    for id in ids\n",
    "        script_content *= \"./bin/mpl -d HIV/$(group) -i $(id)-poly.num -o $(id)-poly-AA-MPL.dat -g 1e5 -N 1e4 -q 22 -m mutation_rate.txt -sc covariance-$(id)-poly-AA.dat -sn numerator-$(id)-poly-AA.dat\\n\"\n",
    "        script_content *= \"./bin/mpl -d HIV/$(group) -i $(id)-poly.num -o $(id)-poly-AA-SL.dat  -g 1e5 -N 1e4 -q 22 -m mutation_rate.txt -nc\\n\"\n",
    "    end\n",
    "\n",
    "    # Add footer\n",
    "    script_content *= \"\"\"\n",
    "date\n",
    "hostname\n",
    "exit 0\n",
    "\"\"\"\n",
    "\n",
    "    # Define script file name\n",
    "    script_path = output_dir * \"run_mpl_SHIV_$(group).sh\"\n",
    "\n",
    "    # Write the script to file\n",
    "    open(script_path, \"w\") do file\n",
    "        write(file, script_content)\n",
    "    end\n",
    "\n",
    "    # Make it executable\n",
    "    run(`chmod +x $script_path`)\n",
    "end\n"
   ]
  },
  {
   "cell_type": "code",
   "execution_count": null,
   "id": "321e3564-9615-4e5a-933f-bf2a07c133ff",
   "metadata": {},
   "outputs": [],
   "source": []
  },
  {
   "cell_type": "code",
   "execution_count": null,
   "id": "959aceac-a58c-4ffa-819f-eb6a69e00f6c",
   "metadata": {},
   "outputs": [],
   "source": []
  }
 ],
 "metadata": {
  "kernelspec": {
   "display_name": "Julia 1.8.2",
   "language": "julia",
   "name": "julia-1.8"
  },
  "language_info": {
   "file_extension": ".jl",
   "mimetype": "application/julia",
   "name": "julia",
   "version": "1.8.2"
  }
 },
 "nbformat": 4,
 "nbformat_minor": 5
}
